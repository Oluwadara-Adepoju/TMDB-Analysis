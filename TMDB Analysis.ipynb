{
 "cells": [
  {
   "cell_type": "markdown",
   "metadata": {},
   "source": [
    "\n",
    "# Project: Investigate a Dataset (Data Analysis on the TMDB Dataset)\n",
    "\n",
    "## Table of Contents\n",
    "<ul>\n",
    "<li><a href=\"#intro\">Introduction</a></li>\n",
    "<li><a href=\"#wrangling\">Data Wrangling</a></li>\n",
    "<li><a href=\"#eda\">Exploratory Data Analysis</a></li>\n",
    "<li><a href=\"#conclusions\">Conclusions</a></li>\n",
    "</ul>"
   ]
  },
  {
   "cell_type": "markdown",
   "metadata": {},
   "source": [
    "<a id='intro'></a>\n",
    "## Introduction\n",
    "\n"
   ]
  },
  {
   "cell_type": "code",
   "execution_count": 2,
   "metadata": {},
   "outputs": [],
   "source": [
    "import numpy as np\n",
    "import pandas as pd\n",
    "import matplotlib.pyplot as plt\n",
    "import seaborn as sns\n",
    "%matplotlib inline"
   ]
  },
  {
   "cell_type": "markdown",
   "metadata": {},
   "source": [
    "<a id='wrangling'></a>\n",
    "## Data Wrangling\n",
    "\n",
    ">"
   ]
  },
  {
   "cell_type": "code",
   "execution_count": 21,
   "metadata": {},
   "outputs": [
    {
     "data": {
      "text/html": [
       "<div>\n",
       "<style scoped>\n",
       "    .dataframe tbody tr th:only-of-type {\n",
       "        vertical-align: middle;\n",
       "    }\n",
       "\n",
       "    .dataframe tbody tr th {\n",
       "        vertical-align: top;\n",
       "    }\n",
       "\n",
       "    .dataframe thead th {\n",
       "        text-align: right;\n",
       "    }\n",
       "</style>\n",
       "<table border=\"1\" class=\"dataframe\">\n",
       "  <thead>\n",
       "    <tr style=\"text-align: right;\">\n",
       "      <th></th>\n",
       "      <th>id</th>\n",
       "      <th>imdb_id</th>\n",
       "      <th>popularity</th>\n",
       "      <th>budget</th>\n",
       "      <th>revenue</th>\n",
       "      <th>original_title</th>\n",
       "      <th>cast</th>\n",
       "      <th>homepage</th>\n",
       "      <th>director</th>\n",
       "      <th>tagline</th>\n",
       "      <th>...</th>\n",
       "      <th>overview</th>\n",
       "      <th>runtime</th>\n",
       "      <th>genres</th>\n",
       "      <th>production_companies</th>\n",
       "      <th>release_date</th>\n",
       "      <th>vote_count</th>\n",
       "      <th>vote_average</th>\n",
       "      <th>release_year</th>\n",
       "      <th>budget_adj</th>\n",
       "      <th>revenue_adj</th>\n",
       "    </tr>\n",
       "  </thead>\n",
       "  <tbody>\n",
       "    <tr>\n",
       "      <th>0</th>\n",
       "      <td>135397</td>\n",
       "      <td>tt0369610</td>\n",
       "      <td>32.985763</td>\n",
       "      <td>150000000</td>\n",
       "      <td>1513528810</td>\n",
       "      <td>Jurassic World</td>\n",
       "      <td>Chris Pratt|Bryce Dallas Howard|Irrfan Khan|Vi...</td>\n",
       "      <td>http://www.jurassicworld.com/</td>\n",
       "      <td>Colin Trevorrow</td>\n",
       "      <td>The park is open.</td>\n",
       "      <td>...</td>\n",
       "      <td>Twenty-two years after the events of Jurassic ...</td>\n",
       "      <td>124</td>\n",
       "      <td>Action|Adventure|Science Fiction|Thriller</td>\n",
       "      <td>Universal Studios|Amblin Entertainment|Legenda...</td>\n",
       "      <td>6/9/15</td>\n",
       "      <td>5562</td>\n",
       "      <td>6.5</td>\n",
       "      <td>2015</td>\n",
       "      <td>1.379999e+08</td>\n",
       "      <td>1.392446e+09</td>\n",
       "    </tr>\n",
       "    <tr>\n",
       "      <th>1</th>\n",
       "      <td>76341</td>\n",
       "      <td>tt1392190</td>\n",
       "      <td>28.419936</td>\n",
       "      <td>150000000</td>\n",
       "      <td>378436354</td>\n",
       "      <td>Mad Max: Fury Road</td>\n",
       "      <td>Tom Hardy|Charlize Theron|Hugh Keays-Byrne|Nic...</td>\n",
       "      <td>http://www.madmaxmovie.com/</td>\n",
       "      <td>George Miller</td>\n",
       "      <td>What a Lovely Day.</td>\n",
       "      <td>...</td>\n",
       "      <td>An apocalyptic story set in the furthest reach...</td>\n",
       "      <td>120</td>\n",
       "      <td>Action|Adventure|Science Fiction|Thriller</td>\n",
       "      <td>Village Roadshow Pictures|Kennedy Miller Produ...</td>\n",
       "      <td>5/13/15</td>\n",
       "      <td>6185</td>\n",
       "      <td>7.1</td>\n",
       "      <td>2015</td>\n",
       "      <td>1.379999e+08</td>\n",
       "      <td>3.481613e+08</td>\n",
       "    </tr>\n",
       "    <tr>\n",
       "      <th>2</th>\n",
       "      <td>262500</td>\n",
       "      <td>tt2908446</td>\n",
       "      <td>13.112507</td>\n",
       "      <td>110000000</td>\n",
       "      <td>295238201</td>\n",
       "      <td>Insurgent</td>\n",
       "      <td>Shailene Woodley|Theo James|Kate Winslet|Ansel...</td>\n",
       "      <td>http://www.thedivergentseries.movie/#insurgent</td>\n",
       "      <td>Robert Schwentke</td>\n",
       "      <td>One Choice Can Destroy You</td>\n",
       "      <td>...</td>\n",
       "      <td>Beatrice Prior must confront her inner demons ...</td>\n",
       "      <td>119</td>\n",
       "      <td>Adventure|Science Fiction|Thriller</td>\n",
       "      <td>Summit Entertainment|Mandeville Films|Red Wago...</td>\n",
       "      <td>3/18/15</td>\n",
       "      <td>2480</td>\n",
       "      <td>6.3</td>\n",
       "      <td>2015</td>\n",
       "      <td>1.012000e+08</td>\n",
       "      <td>2.716190e+08</td>\n",
       "    </tr>\n",
       "    <tr>\n",
       "      <th>3</th>\n",
       "      <td>140607</td>\n",
       "      <td>tt2488496</td>\n",
       "      <td>11.173104</td>\n",
       "      <td>200000000</td>\n",
       "      <td>2068178225</td>\n",
       "      <td>Star Wars: The Force Awakens</td>\n",
       "      <td>Harrison Ford|Mark Hamill|Carrie Fisher|Adam D...</td>\n",
       "      <td>http://www.starwars.com/films/star-wars-episod...</td>\n",
       "      <td>J.J. Abrams</td>\n",
       "      <td>Every generation has a story.</td>\n",
       "      <td>...</td>\n",
       "      <td>Thirty years after defeating the Galactic Empi...</td>\n",
       "      <td>136</td>\n",
       "      <td>Action|Adventure|Science Fiction|Fantasy</td>\n",
       "      <td>Lucasfilm|Truenorth Productions|Bad Robot</td>\n",
       "      <td>12/15/15</td>\n",
       "      <td>5292</td>\n",
       "      <td>7.5</td>\n",
       "      <td>2015</td>\n",
       "      <td>1.839999e+08</td>\n",
       "      <td>1.902723e+09</td>\n",
       "    </tr>\n",
       "    <tr>\n",
       "      <th>4</th>\n",
       "      <td>168259</td>\n",
       "      <td>tt2820852</td>\n",
       "      <td>9.335014</td>\n",
       "      <td>190000000</td>\n",
       "      <td>1506249360</td>\n",
       "      <td>Furious 7</td>\n",
       "      <td>Vin Diesel|Paul Walker|Jason Statham|Michelle ...</td>\n",
       "      <td>http://www.furious7.com/</td>\n",
       "      <td>James Wan</td>\n",
       "      <td>Vengeance Hits Home</td>\n",
       "      <td>...</td>\n",
       "      <td>Deckard Shaw seeks revenge against Dominic Tor...</td>\n",
       "      <td>137</td>\n",
       "      <td>Action|Crime|Thriller</td>\n",
       "      <td>Universal Pictures|Original Film|Media Rights ...</td>\n",
       "      <td>4/1/15</td>\n",
       "      <td>2947</td>\n",
       "      <td>7.3</td>\n",
       "      <td>2015</td>\n",
       "      <td>1.747999e+08</td>\n",
       "      <td>1.385749e+09</td>\n",
       "    </tr>\n",
       "  </tbody>\n",
       "</table>\n",
       "<p>5 rows × 21 columns</p>\n",
       "</div>"
      ],
      "text/plain": [
       "       id    imdb_id  popularity     budget     revenue  \\\n",
       "0  135397  tt0369610   32.985763  150000000  1513528810   \n",
       "1   76341  tt1392190   28.419936  150000000   378436354   \n",
       "2  262500  tt2908446   13.112507  110000000   295238201   \n",
       "3  140607  tt2488496   11.173104  200000000  2068178225   \n",
       "4  168259  tt2820852    9.335014  190000000  1506249360   \n",
       "\n",
       "                 original_title  \\\n",
       "0                Jurassic World   \n",
       "1            Mad Max: Fury Road   \n",
       "2                     Insurgent   \n",
       "3  Star Wars: The Force Awakens   \n",
       "4                     Furious 7   \n",
       "\n",
       "                                                cast  \\\n",
       "0  Chris Pratt|Bryce Dallas Howard|Irrfan Khan|Vi...   \n",
       "1  Tom Hardy|Charlize Theron|Hugh Keays-Byrne|Nic...   \n",
       "2  Shailene Woodley|Theo James|Kate Winslet|Ansel...   \n",
       "3  Harrison Ford|Mark Hamill|Carrie Fisher|Adam D...   \n",
       "4  Vin Diesel|Paul Walker|Jason Statham|Michelle ...   \n",
       "\n",
       "                                            homepage          director  \\\n",
       "0                      http://www.jurassicworld.com/   Colin Trevorrow   \n",
       "1                        http://www.madmaxmovie.com/     George Miller   \n",
       "2     http://www.thedivergentseries.movie/#insurgent  Robert Schwentke   \n",
       "3  http://www.starwars.com/films/star-wars-episod...       J.J. Abrams   \n",
       "4                           http://www.furious7.com/         James Wan   \n",
       "\n",
       "                         tagline  ...  \\\n",
       "0              The park is open.  ...   \n",
       "1             What a Lovely Day.  ...   \n",
       "2     One Choice Can Destroy You  ...   \n",
       "3  Every generation has a story.  ...   \n",
       "4            Vengeance Hits Home  ...   \n",
       "\n",
       "                                            overview runtime  \\\n",
       "0  Twenty-two years after the events of Jurassic ...     124   \n",
       "1  An apocalyptic story set in the furthest reach...     120   \n",
       "2  Beatrice Prior must confront her inner demons ...     119   \n",
       "3  Thirty years after defeating the Galactic Empi...     136   \n",
       "4  Deckard Shaw seeks revenge against Dominic Tor...     137   \n",
       "\n",
       "                                      genres  \\\n",
       "0  Action|Adventure|Science Fiction|Thriller   \n",
       "1  Action|Adventure|Science Fiction|Thriller   \n",
       "2         Adventure|Science Fiction|Thriller   \n",
       "3   Action|Adventure|Science Fiction|Fantasy   \n",
       "4                      Action|Crime|Thriller   \n",
       "\n",
       "                                production_companies release_date vote_count  \\\n",
       "0  Universal Studios|Amblin Entertainment|Legenda...       6/9/15       5562   \n",
       "1  Village Roadshow Pictures|Kennedy Miller Produ...      5/13/15       6185   \n",
       "2  Summit Entertainment|Mandeville Films|Red Wago...      3/18/15       2480   \n",
       "3          Lucasfilm|Truenorth Productions|Bad Robot     12/15/15       5292   \n",
       "4  Universal Pictures|Original Film|Media Rights ...       4/1/15       2947   \n",
       "\n",
       "   vote_average  release_year    budget_adj   revenue_adj  \n",
       "0           6.5          2015  1.379999e+08  1.392446e+09  \n",
       "1           7.1          2015  1.379999e+08  3.481613e+08  \n",
       "2           6.3          2015  1.012000e+08  2.716190e+08  \n",
       "3           7.5          2015  1.839999e+08  1.902723e+09  \n",
       "4           7.3          2015  1.747999e+08  1.385749e+09  \n",
       "\n",
       "[5 rows x 21 columns]"
      ]
     },
     "execution_count": 21,
     "metadata": {},
     "output_type": "execute_result"
    }
   ],
   "source": [
    "movies = pd.read_csv(\"C:/Users/DELL/Downloads/tmdb-movies.csv\")#Loading the dataset\n",
    "movies.head()# The first five rows of the dataset"
   ]
  },
  {
   "cell_type": "code",
   "execution_count": 29,
   "metadata": {},
   "outputs": [
    {
     "data": {
      "text/plain": [
       "(10866, 26)"
      ]
     },
     "execution_count": 29,
     "metadata": {},
     "output_type": "execute_result"
    }
   ],
   "source": [
    "movies.shape"
   ]
  },
  {
   "cell_type": "markdown",
   "metadata": {},
   "source": [
    "This dataset contains 108666 rows and columns"
   ]
  },
  {
   "cell_type": "code",
   "execution_count": 32,
   "metadata": {},
   "outputs": [
    {
     "name": "stdout",
     "output_type": "stream",
     "text": [
      "<class 'pandas.core.frame.DataFrame'>\n",
      "RangeIndex: 10865 entries, 0 to 10864\n",
      "Data columns (total 26 columns):\n",
      " #   Column                Non-Null Count  Dtype  \n",
      "---  ------                --------------  -----  \n",
      " 0   id                    10865 non-null  int64  \n",
      " 1   imdb_id               10855 non-null  object \n",
      " 2   popularity            10865 non-null  float64\n",
      " 3   budget                10865 non-null  int64  \n",
      " 4   revenue               10865 non-null  int64  \n",
      " 5   original_title        10865 non-null  object \n",
      " 6   cast                  10789 non-null  object \n",
      " 7   homepage              2936 non-null   object \n",
      " 8   director              10821 non-null  object \n",
      " 9   tagline               8041 non-null   object \n",
      " 10  keywords              9372 non-null   object \n",
      " 11  overview              10861 non-null  object \n",
      " 12  runtime               10865 non-null  int64  \n",
      " 13  genres                10842 non-null  object \n",
      " 14  production_companies  9835 non-null   object \n",
      " 15  release_date          10865 non-null  object \n",
      " 16  vote_count            10865 non-null  int64  \n",
      " 17  vote_average          10865 non-null  float64\n",
      " 18  release_year          10865 non-null  int64  \n",
      " 19  budget_adj            10865 non-null  float64\n",
      " 20  revenue_adj           10865 non-null  float64\n",
      " 21  prod_comp_a           9835 non-null   object \n",
      " 22  prod_comp_b           6395 non-null   object \n",
      " 23  prod_comp_c           3816 non-null   object \n",
      " 24  prod_comp_d           2053 non-null   object \n",
      " 25  prod_comp_e           1126 non-null   object \n",
      "dtypes: float64(4), int64(6), object(16)\n",
      "memory usage: 2.2+ MB\n"
     ]
    }
   ],
   "source": [
    "movies.info()"
   ]
  },
  {
   "cell_type": "code",
   "execution_count": null,
   "metadata": {},
   "outputs": [],
   "source": []
  },
  {
   "cell_type": "code",
   "execution_count": 5,
   "metadata": {},
   "outputs": [],
   "source": [
    "movies['release_date'] = pd.to_datetime(movies['release_date'])"
   ]
  },
  {
   "cell_type": "markdown",
   "metadata": {},
   "source": [
    "## Checking for missing values"
   ]
  },
  {
   "cell_type": "code",
   "execution_count": null,
   "metadata": {},
   "outputs": [
    {
     "data": {
      "text/plain": [
       "id                       0.000000\n",
       "imdb_id                  0.092030\n",
       "popularity               0.000000\n",
       "budget                   0.000000\n",
       "revenue                  0.000000\n",
       "original_title           0.000000\n",
       "cast                     0.699429\n",
       "homepage                72.979937\n",
       "director                 0.404933\n",
       "tagline                 25.989324\n",
       "keywords                13.740107\n",
       "overview                 0.036812\n",
       "runtime                  0.000000\n",
       "genres                   0.211669\n",
       "production_companies     9.479109\n",
       "release_date             0.000000\n",
       "vote_count               0.000000\n",
       "vote_average             0.000000\n",
       "release_year             0.000000\n",
       "budget_adj               0.000000\n",
       "revenue_adj              0.000000\n",
       "prod_comp_a              9.479109\n",
       "prod_comp_b             41.137493\n",
       "prod_comp_c             64.881281\n",
       "prod_comp_d             81.106203\n",
       "prod_comp_e             89.637401\n",
       "dtype: float64"
      ]
     },
     "execution_count": 24,
     "metadata": {},
     "output_type": "execute_result"
    }
   ],
   "source": [
    "movies.isna().sum()/len(movies)*100\n"
   ]
  },
  {
   "cell_type": "code",
   "execution_count": 159,
   "metadata": {},
   "outputs": [
    {
     "data": {
      "text/html": [
       "<div>\n",
       "<style scoped>\n",
       "    .dataframe tbody tr th:only-of-type {\n",
       "        vertical-align: middle;\n",
       "    }\n",
       "\n",
       "    .dataframe tbody tr th {\n",
       "        vertical-align: top;\n",
       "    }\n",
       "\n",
       "    .dataframe thead th {\n",
       "        text-align: right;\n",
       "    }\n",
       "</style>\n",
       "<table border=\"1\" class=\"dataframe\">\n",
       "  <thead>\n",
       "    <tr style=\"text-align: right;\">\n",
       "      <th></th>\n",
       "      <th>id</th>\n",
       "      <th>popularity</th>\n",
       "      <th>budget</th>\n",
       "      <th>revenue</th>\n",
       "      <th>runtime</th>\n",
       "      <th>vote_count</th>\n",
       "      <th>vote_average</th>\n",
       "      <th>release_year</th>\n",
       "      <th>budget_adj</th>\n",
       "      <th>revenue_adj</th>\n",
       "      <th>Profit</th>\n",
       "    </tr>\n",
       "  </thead>\n",
       "  <tbody>\n",
       "    <tr>\n",
       "      <th>count</th>\n",
       "      <td>10865.000000</td>\n",
       "      <td>10865.000000</td>\n",
       "      <td>1.086500e+04</td>\n",
       "      <td>1.086500e+04</td>\n",
       "      <td>10865.000000</td>\n",
       "      <td>10865.000000</td>\n",
       "      <td>10865.000000</td>\n",
       "      <td>10865.000000</td>\n",
       "      <td>1.086500e+04</td>\n",
       "      <td>1.086500e+04</td>\n",
       "      <td>1.086500e+04</td>\n",
       "    </tr>\n",
       "    <tr>\n",
       "      <th>mean</th>\n",
       "      <td>66066.374413</td>\n",
       "      <td>0.646446</td>\n",
       "      <td>1.462429e+07</td>\n",
       "      <td>3.982690e+07</td>\n",
       "      <td>102.071790</td>\n",
       "      <td>217.399632</td>\n",
       "      <td>5.975012</td>\n",
       "      <td>2001.321859</td>\n",
       "      <td>1.754989e+07</td>\n",
       "      <td>5.136900e+07</td>\n",
       "      <td>2.520261e+07</td>\n",
       "    </tr>\n",
       "    <tr>\n",
       "      <th>std</th>\n",
       "      <td>92134.091971</td>\n",
       "      <td>1.000231</td>\n",
       "      <td>3.091428e+07</td>\n",
       "      <td>1.170083e+08</td>\n",
       "      <td>31.382701</td>\n",
       "      <td>575.644627</td>\n",
       "      <td>0.935138</td>\n",
       "      <td>12.813260</td>\n",
       "      <td>3.430753e+07</td>\n",
       "      <td>1.446383e+08</td>\n",
       "      <td>9.659103e+07</td>\n",
       "    </tr>\n",
       "    <tr>\n",
       "      <th>min</th>\n",
       "      <td>5.000000</td>\n",
       "      <td>0.000065</td>\n",
       "      <td>0.000000e+00</td>\n",
       "      <td>0.000000e+00</td>\n",
       "      <td>0.000000</td>\n",
       "      <td>10.000000</td>\n",
       "      <td>1.500000</td>\n",
       "      <td>1960.000000</td>\n",
       "      <td>0.000000e+00</td>\n",
       "      <td>0.000000e+00</td>\n",
       "      <td>-4.139124e+08</td>\n",
       "    </tr>\n",
       "    <tr>\n",
       "      <th>25%</th>\n",
       "      <td>10596.000000</td>\n",
       "      <td>0.207575</td>\n",
       "      <td>0.000000e+00</td>\n",
       "      <td>0.000000e+00</td>\n",
       "      <td>90.000000</td>\n",
       "      <td>17.000000</td>\n",
       "      <td>5.400000</td>\n",
       "      <td>1995.000000</td>\n",
       "      <td>0.000000e+00</td>\n",
       "      <td>0.000000e+00</td>\n",
       "      <td>0.000000e+00</td>\n",
       "    </tr>\n",
       "    <tr>\n",
       "      <th>50%</th>\n",
       "      <td>20662.000000</td>\n",
       "      <td>0.383831</td>\n",
       "      <td>0.000000e+00</td>\n",
       "      <td>0.000000e+00</td>\n",
       "      <td>99.000000</td>\n",
       "      <td>38.000000</td>\n",
       "      <td>6.000000</td>\n",
       "      <td>2006.000000</td>\n",
       "      <td>0.000000e+00</td>\n",
       "      <td>0.000000e+00</td>\n",
       "      <td>0.000000e+00</td>\n",
       "    </tr>\n",
       "    <tr>\n",
       "      <th>75%</th>\n",
       "      <td>75612.000000</td>\n",
       "      <td>0.713857</td>\n",
       "      <td>1.500000e+07</td>\n",
       "      <td>2.400000e+07</td>\n",
       "      <td>111.000000</td>\n",
       "      <td>146.000000</td>\n",
       "      <td>6.600000</td>\n",
       "      <td>2011.000000</td>\n",
       "      <td>2.085325e+07</td>\n",
       "      <td>3.370173e+07</td>\n",
       "      <td>9.092453e+06</td>\n",
       "    </tr>\n",
       "    <tr>\n",
       "      <th>max</th>\n",
       "      <td>417859.000000</td>\n",
       "      <td>32.985763</td>\n",
       "      <td>4.250000e+08</td>\n",
       "      <td>2.781506e+09</td>\n",
       "      <td>900.000000</td>\n",
       "      <td>9767.000000</td>\n",
       "      <td>9.200000</td>\n",
       "      <td>2015.000000</td>\n",
       "      <td>4.250000e+08</td>\n",
       "      <td>2.827124e+09</td>\n",
       "      <td>2.544506e+09</td>\n",
       "    </tr>\n",
       "  </tbody>\n",
       "</table>\n",
       "</div>"
      ],
      "text/plain": [
       "                  id    popularity        budget       revenue       runtime  \\\n",
       "count   10865.000000  10865.000000  1.086500e+04  1.086500e+04  10865.000000   \n",
       "mean    66066.374413      0.646446  1.462429e+07  3.982690e+07    102.071790   \n",
       "std     92134.091971      1.000231  3.091428e+07  1.170083e+08     31.382701   \n",
       "min         5.000000      0.000065  0.000000e+00  0.000000e+00      0.000000   \n",
       "25%     10596.000000      0.207575  0.000000e+00  0.000000e+00     90.000000   \n",
       "50%     20662.000000      0.383831  0.000000e+00  0.000000e+00     99.000000   \n",
       "75%     75612.000000      0.713857  1.500000e+07  2.400000e+07    111.000000   \n",
       "max    417859.000000     32.985763  4.250000e+08  2.781506e+09    900.000000   \n",
       "\n",
       "         vote_count  vote_average  release_year    budget_adj   revenue_adj  \\\n",
       "count  10865.000000  10865.000000  10865.000000  1.086500e+04  1.086500e+04   \n",
       "mean     217.399632      5.975012   2001.321859  1.754989e+07  5.136900e+07   \n",
       "std      575.644627      0.935138     12.813260  3.430753e+07  1.446383e+08   \n",
       "min       10.000000      1.500000   1960.000000  0.000000e+00  0.000000e+00   \n",
       "25%       17.000000      5.400000   1995.000000  0.000000e+00  0.000000e+00   \n",
       "50%       38.000000      6.000000   2006.000000  0.000000e+00  0.000000e+00   \n",
       "75%      146.000000      6.600000   2011.000000  2.085325e+07  3.370173e+07   \n",
       "max     9767.000000      9.200000   2015.000000  4.250000e+08  2.827124e+09   \n",
       "\n",
       "             Profit  \n",
       "count  1.086500e+04  \n",
       "mean   2.520261e+07  \n",
       "std    9.659103e+07  \n",
       "min   -4.139124e+08  \n",
       "25%    0.000000e+00  \n",
       "50%    0.000000e+00  \n",
       "75%    9.092453e+06  \n",
       "max    2.544506e+09  "
      ]
     },
     "execution_count": 159,
     "metadata": {},
     "output_type": "execute_result"
    }
   ],
   "source": [
    "movies.describe()"
   ]
  },
  {
   "cell_type": "markdown",
   "metadata": {},
   "source": [
    "### Data Cleaning"
   ]
  },
  {
   "cell_type": "code",
   "execution_count": 145,
   "metadata": {},
   "outputs": [
    {
     "data": {
      "text/plain": [
       "Index(['id', 'imdb_id', 'popularity', 'budget', 'revenue', 'original_title',\n",
       "       'cast', 'homepage', 'director', 'tagline', 'keywords', 'overview',\n",
       "       'runtime', 'genres', 'production_companies', 'release_date',\n",
       "       'vote_count', 'vote_average', 'release_year', 'budget_adj',\n",
       "       'revenue_adj', 'prod_comp_a', 'prod_comp_b', 'prod_comp_c',\n",
       "       'prod_comp_d', 'prod_comp_e', 'Profit', 'genre_a', 'genre_b', 'genre_c',\n",
       "       'genre_d', 'genre_e'],\n",
       "      dtype='object')"
      ]
     },
     "execution_count": 145,
     "metadata": {},
     "output_type": "execute_result"
    }
   ],
   "source": [
    "movies.columns"
   ]
  },
  {
   "cell_type": "markdown",
   "metadata": {},
   "source": [
    "> Checking for the names of all the columns.\n",
    "\n",
    "\n",
    ">So From the dataset, we can see that there is a budget and a revenue column, \n",
    "To determine the profits made by the movie. A profit column will be generated.The revenue wiil be subtracted from the budget of each movie."
   ]
  },
  {
   "cell_type": "code",
   "execution_count": 88,
   "metadata": {},
   "outputs": [],
   "source": [
    "movies['Profit'] = movies['revenue']- movies['budget']"
   ]
  },
  {
   "cell_type": "markdown",
   "metadata": {
    "tags": []
   },
   "source": [
    "## Cleaning the *genres* column"
   ]
  },
  {
   "cell_type": "code",
   "execution_count": null,
   "metadata": {},
   "outputs": [],
   "source": [
    "movies['genres'].unique()"
   ]
  },
  {
   "cell_type": "markdown",
   "metadata": {},
   "source": [
    ">We have multiple genre mixed together in the genres column, so we are going to be seperating them using the str.split() method"
   ]
  },
  {
   "cell_type": "code",
   "execution_count": 144,
   "metadata": {},
   "outputs": [],
   "source": [
    "movies[['genre_a', 'genre_b', 'genre_c', 'genre_d','genre_e']] = movies['genres'].str.split('|', expand=True)\n"
   ]
  },
  {
   "cell_type": "markdown",
   "metadata": {},
   "source": [
    "## Cleaning the *production_companies* column"
   ]
  },
  {
   "cell_type": "code",
   "execution_count": 22,
   "metadata": {},
   "outputs": [
    {
     "data": {
      "text/plain": [
       "array(['Universal Studios|Amblin Entertainment|Legendary Pictures|Fuji Television Network|Dentsu',\n",
       "       'Village Roadshow Pictures|Kennedy Miller Productions',\n",
       "       'Summit Entertainment|Mandeville Films|Red Wagon Entertainment|NeoReel',\n",
       "       ...,\n",
       "       'Cherokee Productions|Joel Productions|Douglas & Lewis Productions',\n",
       "       'Benedict Pictures Corp.', 'Norm-Iris'], dtype=object)"
      ]
     },
     "execution_count": 22,
     "metadata": {},
     "output_type": "execute_result"
    }
   ],
   "source": [
    "movies['production_companies'].unique()"
   ]
  },
  {
   "cell_type": "markdown",
   "metadata": {},
   "source": [
    "> We have multiple production companies but we want to separate each of them so as to individually identify the major production companies.\n",
    "\n",
    "> To seperate the companies we will b using str.split() method"
   ]
  },
  {
   "cell_type": "code",
   "execution_count": 141,
   "metadata": {},
   "outputs": [],
   "source": [
    "movies[['prod_comp_a', 'prod_comp_b', 'prod_comp_c', 'prod_comp_d','prod_comp_e']] = movies['production_companies'].str.split('|', expand=True,)"
   ]
  },
  {
   "cell_type": "markdown",
   "metadata": {},
   "source": [
    "### Checking for Missing values and duplicated rows"
   ]
  },
  {
   "cell_type": "code",
   "execution_count": null,
   "metadata": {},
   "outputs": [],
   "source": [
    "movies.isna().sum()/len(movies)*100"
   ]
  },
  {
   "cell_type": "markdown",
   "metadata": {},
   "source": [
    "> As you can see, we have multiple missing value and we will take care of them after droppin our duplicated rows!\n",
    "\n",
    ">To drop the duplicated rows, we used the drop_duplicates option"
   ]
  },
  {
   "cell_type": "code",
   "execution_count": 30,
   "metadata": {},
   "outputs": [],
   "source": [
    "movies.drop_duplicates(keep = 'first',ignore_index = True,inplace=True)"
   ]
  },
  {
   "cell_type": "code",
   "execution_count": 126,
   "metadata": {},
   "outputs": [],
   "source": [
    "movies.fillna('Unknown',inplace=True)"
   ]
  },
  {
   "cell_type": "code",
   "execution_count": 31,
   "metadata": {},
   "outputs": [
    {
     "data": {
      "text/plain": [
       "(10865, 26)"
      ]
     },
     "execution_count": 31,
     "metadata": {},
     "output_type": "execute_result"
    }
   ],
   "source": [
    "movies.shape"
   ]
  },
  {
   "cell_type": "markdown",
   "metadata": {
    "tags": []
   },
   "source": [
    "<a id='eda'></a>\n",
    "## Exploratory Data Analysis\n",
    "\n",
    "\n",
    "### Research Question 1 (What are the names of the top ten grossing movies ever?)"
   ]
  },
  {
   "cell_type": "code",
   "execution_count": 58,
   "metadata": {},
   "outputs": [],
   "source": [
    "top_ten = movies[['revenue', 'original_title', 'release_year']]"
   ]
  },
  {
   "cell_type": "code",
   "execution_count": 154,
   "metadata": {},
   "outputs": [
    {
     "data": {
      "text/html": [
       "<div>\n",
       "<style scoped>\n",
       "    .dataframe tbody tr th:only-of-type {\n",
       "        vertical-align: middle;\n",
       "    }\n",
       "\n",
       "    .dataframe tbody tr th {\n",
       "        vertical-align: top;\n",
       "    }\n",
       "\n",
       "    .dataframe thead th {\n",
       "        text-align: right;\n",
       "    }\n",
       "</style>\n",
       "<table border=\"1\" class=\"dataframe\">\n",
       "  <thead>\n",
       "    <tr style=\"text-align: right;\">\n",
       "      <th></th>\n",
       "      <th>revenue</th>\n",
       "      <th>original_title</th>\n",
       "      <th>release_year</th>\n",
       "    </tr>\n",
       "  </thead>\n",
       "  <tbody>\n",
       "    <tr>\n",
       "      <th>0</th>\n",
       "      <td>2781505847</td>\n",
       "      <td>Avatar</td>\n",
       "      <td>2009</td>\n",
       "    </tr>\n",
       "    <tr>\n",
       "      <th>1</th>\n",
       "      <td>2068178225</td>\n",
       "      <td>Star Wars: The Force Awakens</td>\n",
       "      <td>2015</td>\n",
       "    </tr>\n",
       "    <tr>\n",
       "      <th>2</th>\n",
       "      <td>1845034188</td>\n",
       "      <td>Titanic</td>\n",
       "      <td>1997</td>\n",
       "    </tr>\n",
       "    <tr>\n",
       "      <th>3</th>\n",
       "      <td>1519557910</td>\n",
       "      <td>The Avengers</td>\n",
       "      <td>2012</td>\n",
       "    </tr>\n",
       "    <tr>\n",
       "      <th>4</th>\n",
       "      <td>1513528810</td>\n",
       "      <td>Jurassic World</td>\n",
       "      <td>2015</td>\n",
       "    </tr>\n",
       "    <tr>\n",
       "      <th>5</th>\n",
       "      <td>1506249360</td>\n",
       "      <td>Furious 7</td>\n",
       "      <td>2015</td>\n",
       "    </tr>\n",
       "    <tr>\n",
       "      <th>6</th>\n",
       "      <td>1405035767</td>\n",
       "      <td>Avengers: Age of Ultron</td>\n",
       "      <td>2015</td>\n",
       "    </tr>\n",
       "    <tr>\n",
       "      <th>7</th>\n",
       "      <td>1327817822</td>\n",
       "      <td>Harry Potter and the Deathly Hallows: Part 2</td>\n",
       "      <td>2011</td>\n",
       "    </tr>\n",
       "    <tr>\n",
       "      <th>8</th>\n",
       "      <td>1274219009</td>\n",
       "      <td>Frozen</td>\n",
       "      <td>2013</td>\n",
       "    </tr>\n",
       "    <tr>\n",
       "      <th>9</th>\n",
       "      <td>1215439994</td>\n",
       "      <td>Iron Man 3</td>\n",
       "      <td>2013</td>\n",
       "    </tr>\n",
       "  </tbody>\n",
       "</table>\n",
       "</div>"
      ],
      "text/plain": [
       "      revenue                                original_title  release_year\n",
       "0  2781505847                                        Avatar          2009\n",
       "1  2068178225                  Star Wars: The Force Awakens          2015\n",
       "2  1845034188                                       Titanic          1997\n",
       "3  1519557910                                  The Avengers          2012\n",
       "4  1513528810                                Jurassic World          2015\n",
       "5  1506249360                                     Furious 7          2015\n",
       "6  1405035767                       Avengers: Age of Ultron          2015\n",
       "7  1327817822  Harry Potter and the Deathly Hallows: Part 2          2011\n",
       "8  1274219009                                        Frozen          2013\n",
       "9  1215439994                                    Iron Man 3          2013"
      ]
     },
     "execution_count": 154,
     "metadata": {},
     "output_type": "execute_result"
    }
   ],
   "source": [
    "top_ten_gross = top_ten.sort_values(['revenue'],ascending =False)\n",
    "top_ten_gross.reset_index(drop=True, inplace=True)\n",
    "top_count=top_ten_gross.head(10)\n",
    "top_count"
   ]
  },
  {
   "cell_type": "markdown",
   "metadata": {},
   "source": [
    "> Our first question is to determine the top ten grossed movies ever as provided in the dataset. first we isolated the required columns and sorted the values based on the revenue to determine the top 10 grossing movies of all time as of the date of the dataset."
   ]
  },
  {
   "cell_type": "code",
   "execution_count": 86,
   "metadata": {},
   "outputs": [
    {
     "data": {
      "image/png": "[encoded data removed]",
      "text/plain": [
       "<Figure size 1008x576 with 1 Axes>"
      ]
     },
     "metadata": {
      "needs_background": "light"
     },
     "output_type": "display_data"
    }
   ],
   "source": [
    "fig = plt.figure(figsize=(14,8))\n",
    "plt.bar(top_count['original_title'],top_count['revenue'], width =0.5, color = 'Blue')\n",
    "plt.ylabel('Revenue',size=15,)\n",
    "plt.xticks(rotation=85)\n",
    "\n",
    "\n",
    "plt.title('The highest Revenue generated movies ever!',size=20)\n",
    "plt.show()"
   ]
  },
  {
   "cell_type": "markdown",
   "metadata": {},
   "source": [
    "> The movie **Avatar** is the highest grossed movies ever! generating **2781505847 dollars** in revenue followed by **Star Wars: The Force Awaken** which generated **$2068178225 dollars** down to **Iron Man 3** which is in tenth place of the top grossed movies ever!!"
   ]
  },
  {
   "cell_type": "markdown",
   "metadata": {},
   "source": [
    "### Research Questions(What movies had the biggest budgets what did they generate and how big was their profit?)"
   ]
  },
  {
   "cell_type": "code",
   "execution_count": 160,
   "metadata": {},
   "outputs": [
    {
     "data": {
      "text/html": [
       "<div>\n",
       "<style scoped>\n",
       "    .dataframe tbody tr th:only-of-type {\n",
       "        vertical-align: middle;\n",
       "    }\n",
       "\n",
       "    .dataframe tbody tr th {\n",
       "        vertical-align: top;\n",
       "    }\n",
       "\n",
       "    .dataframe thead th {\n",
       "        text-align: right;\n",
       "    }\n",
       "</style>\n",
       "<table border=\"1\" class=\"dataframe\">\n",
       "  <thead>\n",
       "    <tr style=\"text-align: right;\">\n",
       "      <th></th>\n",
       "      <th>original_title</th>\n",
       "      <th>release_year</th>\n",
       "      <th>budget</th>\n",
       "      <th>revenue</th>\n",
       "      <th>Profit</th>\n",
       "    </tr>\n",
       "  </thead>\n",
       "  <tbody>\n",
       "    <tr>\n",
       "      <th>0</th>\n",
       "      <td>The Warrior's Way</td>\n",
       "      <td>2010</td>\n",
       "      <td>425000000</td>\n",
       "      <td>11087569</td>\n",
       "      <td>-413912431</td>\n",
       "    </tr>\n",
       "    <tr>\n",
       "      <th>1</th>\n",
       "      <td>Pirates of the Caribbean: On Stranger Tides</td>\n",
       "      <td>2011</td>\n",
       "      <td>380000000</td>\n",
       "      <td>1021683000</td>\n",
       "      <td>641683000</td>\n",
       "    </tr>\n",
       "    <tr>\n",
       "      <th>2</th>\n",
       "      <td>Pirates of the Caribbean: At World's End</td>\n",
       "      <td>2007</td>\n",
       "      <td>300000000</td>\n",
       "      <td>961000000</td>\n",
       "      <td>661000000</td>\n",
       "    </tr>\n",
       "    <tr>\n",
       "      <th>3</th>\n",
       "      <td>Avengers: Age of Ultron</td>\n",
       "      <td>2015</td>\n",
       "      <td>280000000</td>\n",
       "      <td>1405035767</td>\n",
       "      <td>1125035767</td>\n",
       "    </tr>\n",
       "    <tr>\n",
       "      <th>4</th>\n",
       "      <td>Superman Returns</td>\n",
       "      <td>2006</td>\n",
       "      <td>270000000</td>\n",
       "      <td>391081192</td>\n",
       "      <td>121081192</td>\n",
       "    </tr>\n",
       "    <tr>\n",
       "      <th>5</th>\n",
       "      <td>John Carter</td>\n",
       "      <td>2012</td>\n",
       "      <td>260000000</td>\n",
       "      <td>284139100</td>\n",
       "      <td>24139100</td>\n",
       "    </tr>\n",
       "    <tr>\n",
       "      <th>6</th>\n",
       "      <td>Tangled</td>\n",
       "      <td>2010</td>\n",
       "      <td>260000000</td>\n",
       "      <td>591794936</td>\n",
       "      <td>331794936</td>\n",
       "    </tr>\n",
       "    <tr>\n",
       "      <th>7</th>\n",
       "      <td>Spider-Man 3</td>\n",
       "      <td>2007</td>\n",
       "      <td>258000000</td>\n",
       "      <td>890871626</td>\n",
       "      <td>632871626</td>\n",
       "    </tr>\n",
       "    <tr>\n",
       "      <th>8</th>\n",
       "      <td>The Lone Ranger</td>\n",
       "      <td>2013</td>\n",
       "      <td>255000000</td>\n",
       "      <td>89289910</td>\n",
       "      <td>-165710090</td>\n",
       "    </tr>\n",
       "    <tr>\n",
       "      <th>9</th>\n",
       "      <td>The Hobbit: An Unexpected Journey</td>\n",
       "      <td>2012</td>\n",
       "      <td>250000000</td>\n",
       "      <td>1017003568</td>\n",
       "      <td>767003568</td>\n",
       "    </tr>\n",
       "  </tbody>\n",
       "</table>\n",
       "</div>"
      ],
      "text/plain": [
       "                                original_title  release_year     budget  \\\n",
       "0                            The Warrior's Way          2010  425000000   \n",
       "1  Pirates of the Caribbean: On Stranger Tides          2011  380000000   \n",
       "2     Pirates of the Caribbean: At World's End          2007  300000000   \n",
       "3                      Avengers: Age of Ultron          2015  280000000   \n",
       "4                             Superman Returns          2006  270000000   \n",
       "5                                  John Carter          2012  260000000   \n",
       "6                                      Tangled          2010  260000000   \n",
       "7                                 Spider-Man 3          2007  258000000   \n",
       "8                              The Lone Ranger          2013  255000000   \n",
       "9            The Hobbit: An Unexpected Journey          2012  250000000   \n",
       "\n",
       "      revenue      Profit  \n",
       "0    11087569  -413912431  \n",
       "1  1021683000   641683000  \n",
       "2   961000000   661000000  \n",
       "3  1405035767  1125035767  \n",
       "4   391081192   121081192  \n",
       "5   284139100    24139100  \n",
       "6   591794936   331794936  \n",
       "7   890871626   632871626  \n",
       "8    89289910  -165710090  \n",
       "9  1017003568   767003568  "
      ]
     },
     "execution_count": 160,
     "metadata": {},
     "output_type": "execute_result"
    }
   ],
   "source": [
    "budgets = movies[[ 'original_title', 'release_year', 'budget','revenue','Profit']]\n",
    "top_budget = budgets.sort_values(['budget'],ascending =False)\n",
    "top_budget.reset_index(drop=True, inplace=True)\n",
    "tp=top_budget.head(10)\n",
    "tp"
   ]
  },
  {
   "cell_type": "code",
   "execution_count": 158,
   "metadata": {},
   "outputs": [
    {
     "data": {
      "image/png": "[encoded data removed]",
      "text/plain": [
       "<Figure size 1296x1008 with 3 Axes>"
      ]
     },
     "metadata": {
      "needs_background": "light"
     },
     "output_type": "display_data"
    }
   ],
   "source": [
    "\n",
    "fig, ax = plt.subplots(3,figsize=(18,14),sharex=True)\n",
    "a=ax[0].bar(tp['original_title'],tp['budget'],color='blue',width =0.5)\n",
    "b=ax[1].bar(tp['original_title'],tp['revenue'],color='green',width =0.5)\n",
    "c=ax[2].bar(tp['original_title'],tp['Profit'],color='yellow',width =0.5);\n",
    "\n",
    "# set chart titles\n",
    "ax[2].axhline(0, color='grey', linewidth=0.8)\n",
    "ax[0].set_title('Budget',size=15)\n",
    "ax[1].set_title('Revenue',size=15)\n",
    "ax[2].set_title('Gain/Profit',size=15)\n",
    "plt.xticks(rotation=90)\n",
    "plt.suptitle('The Movies with the highest budgets,their generated Revenue and their generated profit/loss',size=20)\n",
    "plt.show()"
   ]
  },
  {
   "cell_type": "markdown",
   "metadata": {
    "jupyter": {
     "outputs_hidden": true
    }
   },
   "source": [
    "> The movie **The Warrior's Way**  had a budget of \n",
    "**425000000 dollars** but had \n",
    "a huge loss of **-413912431 dollars**\n",
    "and the movie **The Lone Ranger** had a budget of \n",
    "**255000000 dollars** loss, but made a huge\n",
    "**$-165710090 dollars**\n",
    "This is a massive loss for both movies as alot of money was put into the making of the movie. this concludes that not all movies with a huge budget will make profits in the box office!\n"
   ]
  },
  {
   "cell_type": "code",
   "execution_count": 119,
   "metadata": {},
   "outputs": [
    {
     "data": {
      "text/html": [
       "<div>\n",
       "<style scoped>\n",
       "    .dataframe tbody tr th:only-of-type {\n",
       "        vertical-align: middle;\n",
       "    }\n",
       "\n",
       "    .dataframe tbody tr th {\n",
       "        vertical-align: top;\n",
       "    }\n",
       "\n",
       "    .dataframe thead th {\n",
       "        text-align: right;\n",
       "    }\n",
       "</style>\n",
       "<table border=\"1\" class=\"dataframe\">\n",
       "  <thead>\n",
       "    <tr style=\"text-align: right;\">\n",
       "      <th></th>\n",
       "      <th>original_title</th>\n",
       "      <th>release_year</th>\n",
       "      <th>budget</th>\n",
       "      <th>revenue</th>\n",
       "      <th>Profit</th>\n",
       "    </tr>\n",
       "  </thead>\n",
       "  <tbody>\n",
       "    <tr>\n",
       "      <th>0</th>\n",
       "      <td>The Warrior's Way</td>\n",
       "      <td>2010</td>\n",
       "      <td>425000000</td>\n",
       "      <td>11087569</td>\n",
       "      <td>-413912431</td>\n",
       "    </tr>\n",
       "    <tr>\n",
       "      <th>1</th>\n",
       "      <td>The Lone Ranger</td>\n",
       "      <td>2013</td>\n",
       "      <td>255000000</td>\n",
       "      <td>89289910</td>\n",
       "      <td>-165710090</td>\n",
       "    </tr>\n",
       "    <tr>\n",
       "      <th>2</th>\n",
       "      <td>The Wolfman</td>\n",
       "      <td>2010</td>\n",
       "      <td>150000000</td>\n",
       "      <td>0</td>\n",
       "      <td>-150000000</td>\n",
       "    </tr>\n",
       "    <tr>\n",
       "      <th>3</th>\n",
       "      <td>The Pacific</td>\n",
       "      <td>2010</td>\n",
       "      <td>120000000</td>\n",
       "      <td>0</td>\n",
       "      <td>-120000000</td>\n",
       "    </tr>\n",
       "    <tr>\n",
       "      <th>4</th>\n",
       "      <td>The Alamo</td>\n",
       "      <td>2004</td>\n",
       "      <td>145000000</td>\n",
       "      <td>25819961</td>\n",
       "      <td>-119180039</td>\n",
       "    </tr>\n",
       "    <tr>\n",
       "      <th>5</th>\n",
       "      <td>Mars Needs Moms</td>\n",
       "      <td>2011</td>\n",
       "      <td>150000000</td>\n",
       "      <td>38992758</td>\n",
       "      <td>-111007242</td>\n",
       "    </tr>\n",
       "    <tr>\n",
       "      <th>6</th>\n",
       "      <td>Double Wedding</td>\n",
       "      <td>2010</td>\n",
       "      <td>104002432</td>\n",
       "      <td>0</td>\n",
       "      <td>-104002432</td>\n",
       "    </tr>\n",
       "    <tr>\n",
       "      <th>7</th>\n",
       "      <td>Dragonball Evolution</td>\n",
       "      <td>2009</td>\n",
       "      <td>100000000</td>\n",
       "      <td>0</td>\n",
       "      <td>-100000000</td>\n",
       "    </tr>\n",
       "    <tr>\n",
       "      <th>8</th>\n",
       "      <td>Brother Bear</td>\n",
       "      <td>2003</td>\n",
       "      <td>100000000</td>\n",
       "      <td>250</td>\n",
       "      <td>-99999750</td>\n",
       "    </tr>\n",
       "    <tr>\n",
       "      <th>9</th>\n",
       "      <td>The 13th Warrior</td>\n",
       "      <td>1999</td>\n",
       "      <td>160000000</td>\n",
       "      <td>61698899</td>\n",
       "      <td>-98301101</td>\n",
       "    </tr>\n",
       "  </tbody>\n",
       "</table>\n",
       "</div>"
      ],
      "text/plain": [
       "         original_title  release_year     budget   revenue     Profit\n",
       "0     The Warrior's Way          2010  425000000  11087569 -413912431\n",
       "1       The Lone Ranger          2013  255000000  89289910 -165710090\n",
       "2           The Wolfman          2010  150000000         0 -150000000\n",
       "3           The Pacific          2010  120000000         0 -120000000\n",
       "4             The Alamo          2004  145000000  25819961 -119180039\n",
       "5       Mars Needs Moms          2011  150000000  38992758 -111007242\n",
       "6        Double Wedding          2010  104002432         0 -104002432\n",
       "7  Dragonball Evolution          2009  100000000         0 -100000000\n",
       "8          Brother Bear          2003  100000000       250  -99999750\n",
       "9      The 13th Warrior          1999  160000000  61698899  -98301101"
      ]
     },
     "execution_count": 119,
     "metadata": {},
     "output_type": "execute_result"
    }
   ],
   "source": [
    "highest_loss = budgets.sort_values(['Profit'],ascending =True)\n",
    "highest_loss.reset_index(drop=True, inplace=True)\n",
    "hl=highest_loss.head(10)\n",
    "hl"
   ]
  },
  {
   "cell_type": "code",
   "execution_count": 125,
   "metadata": {},
   "outputs": [
    {
     "data": {
      "image/png": "[encoded data removed]",
      "text/plain": [
       "<Figure size 1296x1008 with 2 Axes>"
      ]
     },
     "metadata": {
      "needs_background": "light"
     },
     "output_type": "display_data"
    }
   ],
   "source": [
    "\n",
    "fig, ax = plt.subplots(2,figsize=(18,14))\n",
    "a=ax[0].bar(hl['original_title'],hl['budget'],color='blue',width =0.5)\n",
    "c=ax[1].bar(hl['original_title'],hl['Profit'],color='yellow',width =0.5);\n",
    "\n",
    "# set chart titles\n",
    "a\n",
    "ax[0].set_title('Budget',size=15)\n",
    "ax[1].set_title('Losses',size=15)\n",
    "\n",
    "plt.suptitle('The Top Movies that flopped !',size=20)\n",
    "plt.show()"
   ]
  },
  {
   "cell_type": "markdown",
   "metadata": {},
   "source": [
    ">The movie **The Warrior's Way**  had a budget of \n",
    "**425000000 dollars** but had \n",
    "a huge loss of **-413912431 dollars**\n",
    "and the movie **The Lone Ranger** had a budget of \n",
    "**255000000 dollars** but made a huge loss\n",
    "**$-165710090 dollars**.  We focus on the movies that made huge \n",
    "losses only."
   ]
  },
  {
   "cell_type": "markdown",
   "metadata": {},
   "source": [
    "### Research Question 3  (What are the names of the Directors based on the most popular movies?)"
   ]
  },
  {
   "cell_type": "code",
   "execution_count": 127,
   "metadata": {},
   "outputs": [],
   "source": [
    "pop = movies[['original_title', 'release_year','popularity', 'budget','revenue','Profit', 'director', 'runtime', 'prod_comp_a']]"
   ]
  },
  {
   "cell_type": "code",
   "execution_count": 130,
   "metadata": {},
   "outputs": [
    {
     "data": {
      "text/html": [
       "<div>\n",
       "<style scoped>\n",
       "    .dataframe tbody tr th:only-of-type {\n",
       "        vertical-align: middle;\n",
       "    }\n",
       "\n",
       "    .dataframe tbody tr th {\n",
       "        vertical-align: top;\n",
       "    }\n",
       "\n",
       "    .dataframe thead th {\n",
       "        text-align: right;\n",
       "    }\n",
       "</style>\n",
       "<table border=\"1\" class=\"dataframe\">\n",
       "  <thead>\n",
       "    <tr style=\"text-align: right;\">\n",
       "      <th></th>\n",
       "      <th>original_title</th>\n",
       "      <th>release_year</th>\n",
       "      <th>popularity</th>\n",
       "      <th>budget</th>\n",
       "      <th>revenue</th>\n",
       "      <th>Profit</th>\n",
       "      <th>director</th>\n",
       "      <th>runtime</th>\n",
       "      <th>prod_comp_a</th>\n",
       "    </tr>\n",
       "  </thead>\n",
       "  <tbody>\n",
       "    <tr>\n",
       "      <th>0</th>\n",
       "      <td>Jurassic World</td>\n",
       "      <td>2015</td>\n",
       "      <td>32.985763</td>\n",
       "      <td>150000000</td>\n",
       "      <td>1513528810</td>\n",
       "      <td>1363528810</td>\n",
       "      <td>Colin Trevorrow</td>\n",
       "      <td>124</td>\n",
       "      <td>Universal Studios</td>\n",
       "    </tr>\n",
       "    <tr>\n",
       "      <th>1</th>\n",
       "      <td>Mad Max: Fury Road</td>\n",
       "      <td>2015</td>\n",
       "      <td>28.419936</td>\n",
       "      <td>150000000</td>\n",
       "      <td>378436354</td>\n",
       "      <td>228436354</td>\n",
       "      <td>George Miller</td>\n",
       "      <td>120</td>\n",
       "      <td>Village Roadshow Pictures</td>\n",
       "    </tr>\n",
       "    <tr>\n",
       "      <th>2</th>\n",
       "      <td>Interstellar</td>\n",
       "      <td>2014</td>\n",
       "      <td>24.949134</td>\n",
       "      <td>165000000</td>\n",
       "      <td>621752480</td>\n",
       "      <td>456752480</td>\n",
       "      <td>Christopher Nolan</td>\n",
       "      <td>169</td>\n",
       "      <td>Paramount Pictures</td>\n",
       "    </tr>\n",
       "    <tr>\n",
       "      <th>3</th>\n",
       "      <td>Guardians of the Galaxy</td>\n",
       "      <td>2014</td>\n",
       "      <td>14.311205</td>\n",
       "      <td>170000000</td>\n",
       "      <td>773312399</td>\n",
       "      <td>603312399</td>\n",
       "      <td>James Gunn</td>\n",
       "      <td>121</td>\n",
       "      <td>Marvel Studios</td>\n",
       "    </tr>\n",
       "    <tr>\n",
       "      <th>4</th>\n",
       "      <td>Insurgent</td>\n",
       "      <td>2015</td>\n",
       "      <td>13.112507</td>\n",
       "      <td>110000000</td>\n",
       "      <td>295238201</td>\n",
       "      <td>185238201</td>\n",
       "      <td>Robert Schwentke</td>\n",
       "      <td>119</td>\n",
       "      <td>Summit Entertainment</td>\n",
       "    </tr>\n",
       "    <tr>\n",
       "      <th>5</th>\n",
       "      <td>Captain America: The Winter Soldier</td>\n",
       "      <td>2014</td>\n",
       "      <td>12.971027</td>\n",
       "      <td>170000000</td>\n",
       "      <td>714766572</td>\n",
       "      <td>544766572</td>\n",
       "      <td>Joe Russo|Anthony Russo</td>\n",
       "      <td>136</td>\n",
       "      <td>Marvel Studios</td>\n",
       "    </tr>\n",
       "    <tr>\n",
       "      <th>6</th>\n",
       "      <td>Star Wars</td>\n",
       "      <td>1977</td>\n",
       "      <td>12.037933</td>\n",
       "      <td>11000000</td>\n",
       "      <td>775398007</td>\n",
       "      <td>764398007</td>\n",
       "      <td>George Lucas</td>\n",
       "      <td>121</td>\n",
       "      <td>Lucasfilm</td>\n",
       "    </tr>\n",
       "    <tr>\n",
       "      <th>7</th>\n",
       "      <td>John Wick</td>\n",
       "      <td>2014</td>\n",
       "      <td>11.422751</td>\n",
       "      <td>20000000</td>\n",
       "      <td>78739897</td>\n",
       "      <td>58739897</td>\n",
       "      <td>Chad Stahelski|David Leitch</td>\n",
       "      <td>101</td>\n",
       "      <td>Thunder Road Pictures</td>\n",
       "    </tr>\n",
       "    <tr>\n",
       "      <th>8</th>\n",
       "      <td>Star Wars: The Force Awakens</td>\n",
       "      <td>2015</td>\n",
       "      <td>11.173104</td>\n",
       "      <td>200000000</td>\n",
       "      <td>2068178225</td>\n",
       "      <td>1868178225</td>\n",
       "      <td>J.J. Abrams</td>\n",
       "      <td>136</td>\n",
       "      <td>Lucasfilm</td>\n",
       "    </tr>\n",
       "    <tr>\n",
       "      <th>9</th>\n",
       "      <td>The Hunger Games: Mockingjay - Part 1</td>\n",
       "      <td>2014</td>\n",
       "      <td>10.739009</td>\n",
       "      <td>125000000</td>\n",
       "      <td>752100229</td>\n",
       "      <td>627100229</td>\n",
       "      <td>Francis Lawrence</td>\n",
       "      <td>123</td>\n",
       "      <td>Lionsgate</td>\n",
       "    </tr>\n",
       "  </tbody>\n",
       "</table>\n",
       "</div>"
      ],
      "text/plain": [
       "                          original_title  release_year  popularity     budget  \\\n",
       "0                         Jurassic World          2015   32.985763  150000000   \n",
       "1                     Mad Max: Fury Road          2015   28.419936  150000000   \n",
       "2                           Interstellar          2014   24.949134  165000000   \n",
       "3                Guardians of the Galaxy          2014   14.311205  170000000   \n",
       "4                              Insurgent          2015   13.112507  110000000   \n",
       "5    Captain America: The Winter Soldier          2014   12.971027  170000000   \n",
       "6                              Star Wars          1977   12.037933   11000000   \n",
       "7                              John Wick          2014   11.422751   20000000   \n",
       "8           Star Wars: The Force Awakens          2015   11.173104  200000000   \n",
       "9  The Hunger Games: Mockingjay - Part 1          2014   10.739009  125000000   \n",
       "\n",
       "      revenue      Profit                     director  runtime  \\\n",
       "0  1513528810  1363528810              Colin Trevorrow      124   \n",
       "1   378436354   228436354                George Miller      120   \n",
       "2   621752480   456752480            Christopher Nolan      169   \n",
       "3   773312399   603312399                   James Gunn      121   \n",
       "4   295238201   185238201             Robert Schwentke      119   \n",
       "5   714766572   544766572      Joe Russo|Anthony Russo      136   \n",
       "6   775398007   764398007                 George Lucas      121   \n",
       "7    78739897    58739897  Chad Stahelski|David Leitch      101   \n",
       "8  2068178225  1868178225                  J.J. Abrams      136   \n",
       "9   752100229   627100229             Francis Lawrence      123   \n",
       "\n",
       "                 prod_comp_a  \n",
       "0          Universal Studios  \n",
       "1  Village Roadshow Pictures  \n",
       "2         Paramount Pictures  \n",
       "3             Marvel Studios  \n",
       "4       Summit Entertainment  \n",
       "5             Marvel Studios  \n",
       "6                  Lucasfilm  \n",
       "7      Thunder Road Pictures  \n",
       "8                  Lucasfilm  \n",
       "9                  Lionsgate  "
      ]
     },
     "execution_count": 130,
     "metadata": {},
     "output_type": "execute_result"
    }
   ],
   "source": [
    "most_pop = pop.sort_values(['popularity'],ascending =False)\n",
    "most_pop.reset_index(drop=True, inplace=True)\n",
    "mp=most_pop.head(10)\n",
    "mp"
   ]
  },
  {
   "cell_type": "code",
   "execution_count": 132,
   "metadata": {},
   "outputs": [
    {
     "data": {
      "image/png": "[encoded data removed]",
      "text/plain": [
       "<Figure size 1008x576 with 1 Axes>"
      ]
     },
     "metadata": {
      "needs_background": "light"
     },
     "output_type": "display_data"
    }
   ],
   "source": [
    "fig = plt.figure(figsize=(14,8))\n",
    "plt.bar(mp['director'],mp['popularity'], width =0.5, color = 'Blue')\n",
    "plt.ylabel('Popularity',size=15,)\n",
    "plt.xticks(rotation=85)\n",
    "\n",
    "\n",
    "plt.title('The Directors behind the most popular movies',size=20)\n",
    "plt.show()"
   ]
  },
  {
   "cell_type": "markdown",
   "metadata": {},
   "source": [
    ">  **Colin Trevorrow** is the director of **Jurassic World**,the most popular movie based on the popularity column, the next director is **George Miller** of the\n",
    "**Interstellar** in **2nd place**. In third place is **Christopher Nolan** of the movie **Guardians of the Galaxy**\n"
   ]
  },
  {
   "cell_type": "markdown",
   "metadata": {},
   "source": [
    "### Research Question 4  (What are the names of the movies with longest runtime? how does it relate to its bugdet??)"
   ]
  },
  {
   "cell_type": "code",
   "execution_count": 134,
   "metadata": {
    "tags": []
   },
   "outputs": [
    {
     "data": {
      "text/html": [
       "<div>\n",
       "<style scoped>\n",
       "    .dataframe tbody tr th:only-of-type {\n",
       "        vertical-align: middle;\n",
       "    }\n",
       "\n",
       "    .dataframe tbody tr th {\n",
       "        vertical-align: top;\n",
       "    }\n",
       "\n",
       "    .dataframe thead th {\n",
       "        text-align: right;\n",
       "    }\n",
       "</style>\n",
       "<table border=\"1\" class=\"dataframe\">\n",
       "  <thead>\n",
       "    <tr style=\"text-align: right;\">\n",
       "      <th></th>\n",
       "      <th>original_title</th>\n",
       "      <th>release_year</th>\n",
       "      <th>popularity</th>\n",
       "      <th>budget</th>\n",
       "      <th>revenue</th>\n",
       "      <th>Profit</th>\n",
       "      <th>director</th>\n",
       "      <th>runtime</th>\n",
       "      <th>prod_comp_a</th>\n",
       "    </tr>\n",
       "  </thead>\n",
       "  <tbody>\n",
       "    <tr>\n",
       "      <th>0</th>\n",
       "      <td>The Story of Film: An Odyssey</td>\n",
       "      <td>2011</td>\n",
       "      <td>0.006925</td>\n",
       "      <td>0</td>\n",
       "      <td>0</td>\n",
       "      <td>0</td>\n",
       "      <td>Mark Cousins</td>\n",
       "      <td>900</td>\n",
       "      <td>Unknown</td>\n",
       "    </tr>\n",
       "    <tr>\n",
       "      <th>1</th>\n",
       "      <td>Taken</td>\n",
       "      <td>2002</td>\n",
       "      <td>0.469332</td>\n",
       "      <td>0</td>\n",
       "      <td>0</td>\n",
       "      <td>0</td>\n",
       "      <td>Breck Eisner|FÃ©lix EnrÃ­quez AlcalÃ¡|John Faw...</td>\n",
       "      <td>877</td>\n",
       "      <td>DreamWorks</td>\n",
       "    </tr>\n",
       "    <tr>\n",
       "      <th>2</th>\n",
       "      <td>Band of Brothers</td>\n",
       "      <td>2001</td>\n",
       "      <td>0.537593</td>\n",
       "      <td>0</td>\n",
       "      <td>125000000</td>\n",
       "      <td>125000000</td>\n",
       "      <td>Phil Alden Robinson|Richard Loncraine|Mikael S...</td>\n",
       "      <td>705</td>\n",
       "      <td>HBO</td>\n",
       "    </tr>\n",
       "    <tr>\n",
       "      <th>3</th>\n",
       "      <td>Shoah</td>\n",
       "      <td>1985</td>\n",
       "      <td>0.147489</td>\n",
       "      <td>0</td>\n",
       "      <td>0</td>\n",
       "      <td>0</td>\n",
       "      <td>Claude Lanzmann</td>\n",
       "      <td>566</td>\n",
       "      <td>British Broadcasting Corporation (BBC)</td>\n",
       "    </tr>\n",
       "    <tr>\n",
       "      <th>4</th>\n",
       "      <td>North and South, Book I</td>\n",
       "      <td>1985</td>\n",
       "      <td>0.000065</td>\n",
       "      <td>0</td>\n",
       "      <td>0</td>\n",
       "      <td>0</td>\n",
       "      <td>Unknown</td>\n",
       "      <td>561</td>\n",
       "      <td>Unknown</td>\n",
       "    </tr>\n",
       "    <tr>\n",
       "      <th>5</th>\n",
       "      <td>Planet Earth</td>\n",
       "      <td>2006</td>\n",
       "      <td>0.137913</td>\n",
       "      <td>0</td>\n",
       "      <td>0</td>\n",
       "      <td>0</td>\n",
       "      <td>Alastair Fothergill</td>\n",
       "      <td>550</td>\n",
       "      <td>Unknown</td>\n",
       "    </tr>\n",
       "    <tr>\n",
       "      <th>6</th>\n",
       "      <td>The Pacific</td>\n",
       "      <td>2010</td>\n",
       "      <td>0.757082</td>\n",
       "      <td>120000000</td>\n",
       "      <td>0</td>\n",
       "      <td>-120000000</td>\n",
       "      <td>Jeremy Podeswa|Tim Van Patten|David Nutter|Gra...</td>\n",
       "      <td>540</td>\n",
       "      <td>Playtone</td>\n",
       "    </tr>\n",
       "    <tr>\n",
       "      <th>7</th>\n",
       "      <td>John Adams</td>\n",
       "      <td>2008</td>\n",
       "      <td>0.136540</td>\n",
       "      <td>0</td>\n",
       "      <td>0</td>\n",
       "      <td>0</td>\n",
       "      <td>Tom Hooper</td>\n",
       "      <td>501</td>\n",
       "      <td>Unknown</td>\n",
       "    </tr>\n",
       "    <tr>\n",
       "      <th>8</th>\n",
       "      <td>Life</td>\n",
       "      <td>2009</td>\n",
       "      <td>0.102223</td>\n",
       "      <td>0</td>\n",
       "      <td>0</td>\n",
       "      <td>0</td>\n",
       "      <td>Martha Holmes|Simon Blakeney|Stephen Lyle</td>\n",
       "      <td>500</td>\n",
       "      <td>British Broadcasting Corporation (BBC)</td>\n",
       "    </tr>\n",
       "    <tr>\n",
       "      <th>9</th>\n",
       "      <td>Generation Kill</td>\n",
       "      <td>2008</td>\n",
       "      <td>0.336308</td>\n",
       "      <td>0</td>\n",
       "      <td>0</td>\n",
       "      <td>0</td>\n",
       "      <td>Susanna White|Simon Cellan Jones</td>\n",
       "      <td>470</td>\n",
       "      <td>Company Pictures</td>\n",
       "    </tr>\n",
       "  </tbody>\n",
       "</table>\n",
       "</div>"
      ],
      "text/plain": [
       "                  original_title  release_year  popularity     budget  \\\n",
       "0  The Story of Film: An Odyssey          2011    0.006925          0   \n",
       "1                          Taken          2002    0.469332          0   \n",
       "2               Band of Brothers          2001    0.537593          0   \n",
       "3                          Shoah          1985    0.147489          0   \n",
       "4        North and South, Book I          1985    0.000065          0   \n",
       "5                   Planet Earth          2006    0.137913          0   \n",
       "6                    The Pacific          2010    0.757082  120000000   \n",
       "7                     John Adams          2008    0.136540          0   \n",
       "8                           Life          2009    0.102223          0   \n",
       "9                Generation Kill          2008    0.336308          0   \n",
       "\n",
       "     revenue     Profit                                           director  \\\n",
       "0          0          0                                       Mark Cousins   \n",
       "1          0          0  Breck Eisner|FÃ©lix EnrÃ­quez AlcalÃ¡|John Faw...   \n",
       "2  125000000  125000000  Phil Alden Robinson|Richard Loncraine|Mikael S...   \n",
       "3          0          0                                    Claude Lanzmann   \n",
       "4          0          0                                            Unknown   \n",
       "5          0          0                                Alastair Fothergill   \n",
       "6          0 -120000000  Jeremy Podeswa|Tim Van Patten|David Nutter|Gra...   \n",
       "7          0          0                                         Tom Hooper   \n",
       "8          0          0          Martha Holmes|Simon Blakeney|Stephen Lyle   \n",
       "9          0          0                   Susanna White|Simon Cellan Jones   \n",
       "\n",
       "   runtime                             prod_comp_a  \n",
       "0      900                                 Unknown  \n",
       "1      877                              DreamWorks  \n",
       "2      705                                     HBO  \n",
       "3      566  British Broadcasting Corporation (BBC)  \n",
       "4      561                                 Unknown  \n",
       "5      550                                 Unknown  \n",
       "6      540                                Playtone  \n",
       "7      501                                 Unknown  \n",
       "8      500  British Broadcasting Corporation (BBC)  \n",
       "9      470                        Company Pictures  "
      ]
     },
     "execution_count": 134,
     "metadata": {},
     "output_type": "execute_result"
    }
   ],
   "source": [
    "run_time = pop.sort_values(['runtime'],ascending =False)\n",
    "run_time.reset_index(drop=True, inplace=True)\n",
    "rt=run_time.head(10)\n",
    "rt"
   ]
  },
  {
   "cell_type": "code",
   "execution_count": 136,
   "metadata": {},
   "outputs": [
    {
     "data": {
      "image/png": "[encoded data removed]",
      "text/plain": [
       "<Figure size 1008x576 with 1 Axes>"
      ]
     },
     "metadata": {
      "needs_background": "light"
     },
     "output_type": "display_data"
    }
   ],
   "source": [
    "fig = plt.figure(figsize=(14,8))\n",
    "plt.bar(rt['original_title'],rt['runtime'], width =0.5, color = 'Red')\n",
    "plt.ylabel('Runtime',size=15,)\n",
    "plt.xticks(rotation=85)\n",
    "\n",
    "\n",
    "plt.title('The top 10 Longest running movies',size=20)\n",
    "plt.show()"
   ]
  },
  {
   "cell_type": "markdown",
   "metadata": {},
   "source": [
    ">The movie with the longest runtime is **The Story of Film: An Odyssey** with a runtime of **900 minutes**  The profit, revenue and budget are unknown."
   ]
  },
  {
   "cell_type": "markdown",
   "metadata": {},
   "source": [
    "### Research Question 5  (What are the names of the most profitable genre??)"
   ]
  },
  {
   "cell_type": "code",
   "execution_count": 146,
   "metadata": {},
   "outputs": [],
   "source": [
    "genre=movies[['original_title','genre_a','Profit',  'prod_comp_a']]"
   ]
  },
  {
   "cell_type": "code",
   "execution_count": 148,
   "metadata": {
    "tags": []
   },
   "outputs": [
    {
     "data": {
      "text/html": [
       "<div>\n",
       "<style scoped>\n",
       "    .dataframe tbody tr th:only-of-type {\n",
       "        vertical-align: middle;\n",
       "    }\n",
       "\n",
       "    .dataframe tbody tr th {\n",
       "        vertical-align: top;\n",
       "    }\n",
       "\n",
       "    .dataframe thead th {\n",
       "        text-align: right;\n",
       "    }\n",
       "</style>\n",
       "<table border=\"1\" class=\"dataframe\">\n",
       "  <thead>\n",
       "    <tr style=\"text-align: right;\">\n",
       "      <th></th>\n",
       "      <th>original_title</th>\n",
       "      <th>genre_a</th>\n",
       "      <th>Profit</th>\n",
       "      <th>prod_comp_a</th>\n",
       "    </tr>\n",
       "  </thead>\n",
       "  <tbody>\n",
       "    <tr>\n",
       "      <th>0</th>\n",
       "      <td>Avatar</td>\n",
       "      <td>Action</td>\n",
       "      <td>2544505847</td>\n",
       "      <td>Ingenious Film Partners</td>\n",
       "    </tr>\n",
       "    <tr>\n",
       "      <th>1</th>\n",
       "      <td>Star Wars: The Force Awakens</td>\n",
       "      <td>Action</td>\n",
       "      <td>1868178225</td>\n",
       "      <td>Lucasfilm</td>\n",
       "    </tr>\n",
       "    <tr>\n",
       "      <th>2</th>\n",
       "      <td>Titanic</td>\n",
       "      <td>Drama</td>\n",
       "      <td>1645034188</td>\n",
       "      <td>Paramount Pictures</td>\n",
       "    </tr>\n",
       "    <tr>\n",
       "      <th>3</th>\n",
       "      <td>Jurassic World</td>\n",
       "      <td>Action</td>\n",
       "      <td>1363528810</td>\n",
       "      <td>Universal Studios</td>\n",
       "    </tr>\n",
       "    <tr>\n",
       "      <th>4</th>\n",
       "      <td>Furious 7</td>\n",
       "      <td>Action</td>\n",
       "      <td>1316249360</td>\n",
       "      <td>Universal Pictures</td>\n",
       "    </tr>\n",
       "    <tr>\n",
       "      <th>5</th>\n",
       "      <td>The Avengers</td>\n",
       "      <td>Science Fiction</td>\n",
       "      <td>1299557910</td>\n",
       "      <td>Marvel Studios</td>\n",
       "    </tr>\n",
       "    <tr>\n",
       "      <th>6</th>\n",
       "      <td>Harry Potter and the Deathly Hallows: Part 2</td>\n",
       "      <td>Adventure</td>\n",
       "      <td>1202817822</td>\n",
       "      <td>Warner Bros.</td>\n",
       "    </tr>\n",
       "    <tr>\n",
       "      <th>7</th>\n",
       "      <td>Avengers: Age of Ultron</td>\n",
       "      <td>Action</td>\n",
       "      <td>1125035767</td>\n",
       "      <td>Marvel Studios</td>\n",
       "    </tr>\n",
       "    <tr>\n",
       "      <th>8</th>\n",
       "      <td>Frozen</td>\n",
       "      <td>Animation</td>\n",
       "      <td>1124219009</td>\n",
       "      <td>Walt Disney Pictures</td>\n",
       "    </tr>\n",
       "    <tr>\n",
       "      <th>9</th>\n",
       "      <td>The Net</td>\n",
       "      <td>Crime</td>\n",
       "      <td>1084279658</td>\n",
       "      <td>Columbia Pictures</td>\n",
       "    </tr>\n",
       "  </tbody>\n",
       "</table>\n",
       "</div>"
      ],
      "text/plain": [
       "                                 original_title          genre_a      Profit  \\\n",
       "0                                        Avatar           Action  2544505847   \n",
       "1                  Star Wars: The Force Awakens           Action  1868178225   \n",
       "2                                       Titanic            Drama  1645034188   \n",
       "3                                Jurassic World           Action  1363528810   \n",
       "4                                     Furious 7           Action  1316249360   \n",
       "5                                  The Avengers  Science Fiction  1299557910   \n",
       "6  Harry Potter and the Deathly Hallows: Part 2        Adventure  1202817822   \n",
       "7                       Avengers: Age of Ultron           Action  1125035767   \n",
       "8                                        Frozen        Animation  1124219009   \n",
       "9                                       The Net            Crime  1084279658   \n",
       "\n",
       "               prod_comp_a  \n",
       "0  Ingenious Film Partners  \n",
       "1                Lucasfilm  \n",
       "2       Paramount Pictures  \n",
       "3        Universal Studios  \n",
       "4       Universal Pictures  \n",
       "5           Marvel Studios  \n",
       "6             Warner Bros.  \n",
       "7           Marvel Studios  \n",
       "8     Walt Disney Pictures  \n",
       "9        Columbia Pictures  "
      ]
     },
     "execution_count": 148,
     "metadata": {},
     "output_type": "execute_result"
    }
   ],
   "source": [
    "gen= genre.sort_values(['Profit'],ascending =False)\n",
    "gen.reset_index(drop=True, inplace=True)\n",
    "gn=gen.head(10)\n",
    "gn"
   ]
  },
  {
   "cell_type": "code",
   "execution_count": 149,
   "metadata": {},
   "outputs": [
    {
     "data": {
      "image/png": "[encoded data removed]",
      "text/plain": [
       "<Figure size 1008x576 with 1 Axes>"
      ]
     },
     "metadata": {
      "needs_background": "light"
     },
     "output_type": "display_data"
    }
   ],
   "source": [
    "fig = plt.figure(figsize=(14,8))\n",
    "plt.bar(gn['genre_a'],gn['Profit'], width =0.5, color = 'Blue')\n",
    "plt.ylabel('Genre',size=15,)\n",
    "plt.xticks(rotation=85)\n",
    "\n",
    "\n",
    "plt.title('The Most Profitable Genre',size=20)\n",
    "plt.show()"
   ]
  },
  {
   "cell_type": "markdown",
   "metadata": {},
   "source": [
    "> The **Action genre** is the most profitable genre."
   ]
  },
  {
   "cell_type": "markdown",
   "metadata": {},
   "source": [
    "### Research Question 6  (What are the names of the Production Company with the top gains?)"
   ]
  },
  {
   "cell_type": "code",
   "execution_count": 151,
   "metadata": {},
   "outputs": [
    {
     "data": {
      "image/png": "[encoded data removed]",
      "text/plain": [
       "<Figure size 1008x576 with 1 Axes>"
      ]
     },
     "metadata": {
      "needs_background": "light"
     },
     "output_type": "display_data"
    }
   ],
   "source": [
    "fig = plt.figure(figsize=(14,8))\n",
    "plt.bar(gn['prod_comp_a'],gn['Profit'], width =0.5, color = 'Blue')\n",
    "plt.ylabel('Production Company',size=15,)\n",
    "plt.xticks(rotation=85)\n",
    "\n",
    "\n",
    "plt.title('The Companies that have generated alot of gains based on their movies ',size=20)\n",
    "plt.show()"
   ]
  },
  {
   "cell_type": "markdown",
   "metadata": {},
   "source": [
    ">**Ingenious Film Partners** is one of the production companies to have generated the highest revenue ever!. **Marvel Studios** has also been able to generate alot of profit twice."
   ]
  },
  {
   "cell_type": "markdown",
   "metadata": {},
   "source": [
    "## Conclusion\n",
    ">Alot of movies has been made over the years with different genres. From our analysis, we can conlude that its not about the budget of the movie but people's interest in movies differs! despite the budget!!. The \n",
    "As an investor, It will be better to invest in the **Action genre** as it has proven to be the most profitable to invest in.\n",
    "Production companies such as **Lucasfilms**, **Walt Disney Pictures** especially  **Marvel Studios** are notable companies to be considered as great investment plans"
   ]
  },
  {
   "cell_type": "code",
   "execution_count": null,
   "metadata": {},
   "outputs": [],
   "source": []
  }
 ],
 "metadata": {
  "kernelspec": {
   "display_name": "Python 3 (ipykernel)",
   "language": "python",
   "name": "python3"
  },
  "language_info": {
   "codemirror_mode": {
    "name": "ipython",
    "version": 3
   },
   "file_extension": ".py",
   "mimetype": "text/x-python",
   "name": "python",
   "nbconvert_exporter": "python",
   "pygments_lexer": "ipython3",
   "version": "3.8.8"
  }
 },
 "nbformat": 4,
 "nbformat_minor": 4
}
